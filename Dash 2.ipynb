{
 "cells": [
  {
   "cell_type": "code",
   "execution_count": 1,
   "id": "fc536865-164d-44b9-8ff8-0bd2f3e5e41f",
   "metadata": {},
   "outputs": [],
   "source": [
    "# Convertir plotly a dash"
   ]
  },
  {
   "cell_type": "code",
   "execution_count": 2,
   "id": "7c5ad08c-6e99-456b-954b-78f05d1045aa",
   "metadata": {},
   "outputs": [
    {
     "name": "stderr",
     "output_type": "stream",
     "text": [
      "<ipython-input-2-c0d36107340c>:2: UserWarning: \n",
      "The dash_core_components package is deprecated. Please replace\n",
      "`import dash_core_components as dcc` with `from dash import dcc`\n",
      "  import dash_core_components as dcc\n",
      "<ipython-input-2-c0d36107340c>:3: UserWarning: \n",
      "The dash_html_components package is deprecated. Please replace\n",
      "`import dash_html_components as html` with `from dash import html`\n",
      "  import dash_html_components as html\n"
     ]
    }
   ],
   "source": [
    "import dash\n",
    "import dash_core_components as dcc\n",
    "import dash_html_components as html\n",
    "import plotly.graph_objs as go\n",
    "import numpy as np"
   ]
  },
  {
   "cell_type": "code",
   "execution_count": 3,
   "id": "f4c4f6a8-341a-4273-9e9f-cf2dcc46eed7",
   "metadata": {},
   "outputs": [],
   "source": [
    "app = dash.Dash()"
   ]
  },
  {
   "cell_type": "code",
   "execution_count": 4,
   "id": "f9611c57-f19d-40a7-b46f-341dd1da18e7",
   "metadata": {},
   "outputs": [],
   "source": [
    "valoresx = np.random.randint(1,500,100)\n",
    "valoresy = np.random.randint(1,500,100)"
   ]
  },
  {
   "cell_type": "code",
   "execution_count": 5,
   "id": "b6ac88ae-17ba-478f-ae7d-c626d3be922b",
   "metadata": {},
   "outputs": [],
   "source": [
    "marcador = {'symbol':'square','color':'green','size':12}"
   ]
  },
  {
   "cell_type": "code",
   "execution_count": 6,
   "id": "d63574df-bbca-48fc-927d-bb762e14282b",
   "metadata": {},
   "outputs": [],
   "source": [
    "grafico = dcc.Graph(\n",
    "             id='Grafico1',\n",
    "             figure = {'data':[go.Scatter(x=valoresx, y=valoresy,mode='markers', marker=marcador)],\n",
    "                       'layout':[go.Layout(title='Mi primer scatterplot')]\n",
    "                      }\n",
    "             )"
   ]
  },
  {
   "cell_type": "code",
   "execution_count": 7,
   "id": "5fa81ff1-6667-4de3-b70f-e7f72ccbf689",
   "metadata": {},
   "outputs": [],
   "source": [
    "marcador2 = {'symbol':'square','color':'red','size':11}\n",
    "grafico2 = dcc.Graph(\n",
    "             id='Grafico2',\n",
    "             figure = {'data':[go.Scatter(x=valoresx, y=valoresy,mode='markers', marker=marcador2)],\n",
    "                       'layout':[go.Layout(title='Mi segundo scatterplot')]\n",
    "                      }\n",
    "             )"
   ]
  },
  {
   "cell_type": "code",
   "execution_count": 8,
   "id": "0316ea75-4d2a-4525-9ea7-21d6114db3b9",
   "metadata": {},
   "outputs": [],
   "source": [
    "app.layout = html.Div([grafico, grafico2])"
   ]
  },
  {
   "cell_type": "code",
   "execution_count": 9,
   "id": "4cbaf390-f63b-4589-9125-d2b93908ac51",
   "metadata": {},
   "outputs": [
    {
     "name": "stdout",
     "output_type": "stream",
     "text": [
      "Dash is running on http://127.0.0.1:8050/\n",
      "\n",
      " * Serving Flask app \"__main__\" (lazy loading)\n",
      " * Environment: production\n",
      "   WARNING: This is a development server. Do not use it in a production deployment.\n",
      "   Use a production WSGI server instead.\n",
      " * Debug mode: off\n"
     ]
    },
    {
     "name": "stderr",
     "output_type": "stream",
     "text": [
      " * Running on http://127.0.0.1:8050/ (Press CTRL+C to quit)\n",
      "127.0.0.1 - - [11/Sep/2021 18:23:28] \"\u001b[37mGET / HTTP/1.1\u001b[0m\" 200 -\n",
      "127.0.0.1 - - [11/Sep/2021 18:23:28] \"\u001b[37mGET /_dash-layout HTTP/1.1\u001b[0m\" 200 -\n",
      "127.0.0.1 - - [11/Sep/2021 18:23:28] \"\u001b[37mGET /_dash-dependencies HTTP/1.1\u001b[0m\" 200 -\n",
      "127.0.0.1 - - [11/Sep/2021 18:23:28] \"\u001b[37mGET /_dash-component-suites/dash/dcc/async-graph.js HTTP/1.1\u001b[0m\" 200 -\n",
      "127.0.0.1 - - [11/Sep/2021 18:23:28] \"\u001b[37mGET /_dash-component-suites/dash/dcc/async-plotlyjs.js HTTP/1.1\u001b[0m\" 200 -\n"
     ]
    }
   ],
   "source": [
    "app.run_server()"
   ]
  },
  {
   "cell_type": "code",
   "execution_count": null,
   "id": "5c4bf57a-8600-40b8-8a98-6364f8fdc268",
   "metadata": {},
   "outputs": [],
   "source": []
  }
 ],
 "metadata": {
  "kernelspec": {
   "display_name": "Python 3",
   "language": "python",
   "name": "python3"
  },
  "language_info": {
   "codemirror_mode": {
    "name": "ipython",
    "version": 3
   },
   "file_extension": ".py",
   "mimetype": "text/x-python",
   "name": "python",
   "nbconvert_exporter": "python",
   "pygments_lexer": "ipython3",
   "version": "3.8.8"
  }
 },
 "nbformat": 4,
 "nbformat_minor": 5
}
