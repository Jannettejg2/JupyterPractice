{
 "cells": [
  {
   "cell_type": "code",
   "execution_count": null,
   "id": "50206fa7-6b96-44ed-b469-a8c3398e7fd2",
   "metadata": {},
   "outputs": [],
   "source": [
    "# DASHBOARD"
   ]
  },
  {
   "cell_type": "code",
   "execution_count": 18,
   "id": "7e18898c-6128-4707-a043-885bdf8713e0",
   "metadata": {},
   "outputs": [],
   "source": [
    "import dash\n",
    "import dash_core_components as dcc\n",
    "import dash_html_components as html"
   ]
  },
  {
   "cell_type": "code",
   "execution_count": 19,
   "id": "c5628752-4a75-4bf9-9437-8365763f870b",
   "metadata": {},
   "outputs": [],
   "source": [
    "app = dash.Dash()"
   ]
  },
  {
   "cell_type": "code",
   "execution_count": 27,
   "id": "52705b00-99a0-47b0-9605-c19e3b2b384e",
   "metadata": {},
   "outputs": [],
   "source": [
    "app.layout = html.Div(children=[\n",
    "                html.H1('Hola, buenos días'),\n",
    "                html.Div('Esta es una aplicación web creada con Dash y Python'),\n",
    "                dcc.Graph(\n",
    "                        id='grafico1',\n",
    "                        figure = {'data':[\n",
    "                                        {'x':[1,2,3], 'y':[4,5,2],'type':'bar','name':'datos1'},\n",
    "                                        {'x':[1,2,3], 'y':[3,4,1],'type':'bar','name':'datos2'}\n",
    "                                        ],\n",
    "                                  'layout' : {'title' : 'Gráfico con Dash'}\n",
    "                        })\n",
    "                ])"
   ]
  },
  {
   "cell_type": "code",
   "execution_count": null,
   "id": "381192b8-0572-4b84-a12c-fadffbde6d2c",
   "metadata": {},
   "outputs": [
    {
     "name": "stdout",
     "output_type": "stream",
     "text": [
      "Dash is running on http://127.0.0.1:8050/\n",
      "\n",
      "Dash is running on http://127.0.0.1:8050/\n",
      "\n",
      " * Serving Flask app '__main__' (lazy loading)\n",
      " * Environment: production\n",
      "\u001b[31m   WARNING: This is a development server. Do not use it in a production deployment.\u001b[0m\n",
      "\u001b[2m   Use a production WSGI server instead.\u001b[0m\n",
      " * Debug mode: off\n"
     ]
    },
    {
     "name": "stderr",
     "output_type": "stream",
     "text": [
      " * Running on http://127.0.0.1:8050/ (Press CTRL+C to quit)\n",
      "127.0.0.1 - - [10/Sep/2021 21:05:33] \"GET / HTTP/1.1\" 200 -\n",
      "127.0.0.1 - - [10/Sep/2021 21:05:33] \"GET /_dash-layout HTTP/1.1\" 200 -\n",
      "127.0.0.1 - - [10/Sep/2021 21:05:33] \"GET /_dash-dependencies HTTP/1.1\" 200 -\n",
      "127.0.0.1 - - [10/Sep/2021 21:05:34] \"GET /_dash-component-suites/dash/dcc/async-graph.js HTTP/1.1\" 200 -\n",
      "127.0.0.1 - - [10/Sep/2021 21:05:34] \"GET /_dash-component-suites/dash/dcc/async-plotlyjs.js HTTP/1.1\" 200 -\n",
      "127.0.0.1 - - [10/Sep/2021 22:19:54] \"GET / HTTP/1.1\" 200 -\n",
      "127.0.0.1 - - [10/Sep/2021 22:19:55] \"GET /_dash-layout HTTP/1.1\" 200 -\n",
      "127.0.0.1 - - [10/Sep/2021 22:19:55] \"GET /_dash-dependencies HTTP/1.1\" 200 -\n",
      "127.0.0.1 - - [10/Sep/2021 22:19:55] \"GET /_favicon.ico?v=2.0.0 HTTP/1.1\" 200 -\n",
      "127.0.0.1 - - [10/Sep/2021 22:19:55] \"GET /_dash-component-suites/dash/dcc/async-graph.js HTTP/1.1\" 200 -\n",
      "127.0.0.1 - - [10/Sep/2021 22:19:55] \"GET /_dash-component-suites/dash/dcc/async-plotlyjs.js HTTP/1.1\" 200 -\n",
      "127.0.0.1 - - [10/Sep/2021 22:20:33] \"GET / HTTP/1.1\" 200 -\n",
      "127.0.0.1 - - [10/Sep/2021 22:20:34] \"GET /_dash-layout HTTP/1.1\" 200 -\n",
      "127.0.0.1 - - [10/Sep/2021 22:20:34] \"GET /_dash-dependencies HTTP/1.1\" 200 -\n",
      "127.0.0.1 - - [10/Sep/2021 22:20:34] \"GET /_dash-component-suites/dash/dcc/async-graph.js HTTP/1.1\" 200 -\n",
      "127.0.0.1 - - [10/Sep/2021 22:20:34] \"GET /_dash-component-suites/dash/dcc/async-plotlyjs.js HTTP/1.1\" 200 -\n",
      "127.0.0.1 - - [10/Sep/2021 22:20:39] \"GET / HTTP/1.1\" 200 -\n",
      "127.0.0.1 - - [10/Sep/2021 22:20:39] \"GET /_dash-layout HTTP/1.1\" 200 -\n",
      "127.0.0.1 - - [10/Sep/2021 22:20:39] \"GET /_dash-dependencies HTTP/1.1\" 200 -\n",
      "127.0.0.1 - - [10/Sep/2021 22:20:39] \"GET /_dash-component-suites/dash/dcc/async-graph.js HTTP/1.1\" 200 -\n",
      "127.0.0.1 - - [10/Sep/2021 22:20:39] \"GET /_dash-component-suites/dash/dcc/async-plotlyjs.js HTTP/1.1\" 200 -\n",
      "127.0.0.1 - - [10/Sep/2021 22:20:44] \"GET / HTTP/1.1\" 200 -\n",
      "127.0.0.1 - - [10/Sep/2021 22:20:44] \"GET /_dash-layout HTTP/1.1\" 200 -\n",
      "127.0.0.1 - - [10/Sep/2021 22:20:44] \"GET /_dash-dependencies HTTP/1.1\" 200 -\n",
      "127.0.0.1 - - [10/Sep/2021 22:20:44] \"GET /_dash-component-suites/dash/dcc/async-graph.js HTTP/1.1\" 200 -\n",
      "127.0.0.1 - - [10/Sep/2021 22:20:44] \"GET /_dash-component-suites/dash/dcc/async-plotlyjs.js HTTP/1.1\" 200 -\n",
      "127.0.0.1 - - [10/Sep/2021 22:21:26] \"GET / HTTP/1.1\" 200 -\n",
      "127.0.0.1 - - [10/Sep/2021 22:21:27] \"GET /_dash-layout HTTP/1.1\" 200 -\n",
      "127.0.0.1 - - [10/Sep/2021 22:21:27] \"GET /_dash-dependencies HTTP/1.1\" 200 -\n",
      "127.0.0.1 - - [10/Sep/2021 22:21:27] \"GET /_dash-component-suites/dash/dcc/async-graph.js HTTP/1.1\" 200 -\n",
      "127.0.0.1 - - [10/Sep/2021 22:21:27] \"GET /_dash-component-suites/dash/dcc/async-plotlyjs.js HTTP/1.1\" 200 -\n",
      "127.0.0.1 - - [10/Sep/2021 22:24:55] \"GET / HTTP/1.1\" 200 -\n",
      "127.0.0.1 - - [10/Sep/2021 22:24:55] \"GET /_dash-layout HTTP/1.1\" 200 -\n",
      "127.0.0.1 - - [10/Sep/2021 22:24:55] \"GET /_dash-dependencies HTTP/1.1\" 200 -\n",
      "127.0.0.1 - - [10/Sep/2021 22:24:55] \"GET /_dash-component-suites/dash/dcc/async-graph.js HTTP/1.1\" 200 -\n",
      "127.0.0.1 - - [10/Sep/2021 22:24:55] \"GET /_dash-component-suites/dash/dcc/async-plotlyjs.js HTTP/1.1\" 200 -\n",
      "127.0.0.1 - - [10/Sep/2021 22:25:12] \"GET / HTTP/1.1\" 200 -\n",
      "127.0.0.1 - - [10/Sep/2021 22:25:12] \"GET /_dash-layout HTTP/1.1\" 200 -\n",
      "127.0.0.1 - - [10/Sep/2021 22:25:12] \"GET /_dash-dependencies HTTP/1.1\" 200 -\n",
      "127.0.0.1 - - [10/Sep/2021 22:25:12] \"GET /_dash-component-suites/dash/dcc/async-graph.js HTTP/1.1\" 200 -\n",
      "127.0.0.1 - - [10/Sep/2021 22:25:12] \"GET /_dash-component-suites/dash/dcc/async-plotlyjs.js HTTP/1.1\" 200 -\n",
      "127.0.0.1 - - [10/Sep/2021 22:25:18] \"GET / HTTP/1.1\" 200 -\n",
      "127.0.0.1 - - [10/Sep/2021 22:25:19] \"GET /_dash-layout HTTP/1.1\" 200 -\n",
      "127.0.0.1 - - [10/Sep/2021 22:25:19] \"GET /_dash-dependencies HTTP/1.1\" 200 -\n",
      "127.0.0.1 - - [10/Sep/2021 22:25:19] \"GET /_dash-component-suites/dash/dcc/async-graph.js HTTP/1.1\" 200 -\n",
      "127.0.0.1 - - [10/Sep/2021 22:25:19] \"GET /_dash-component-suites/dash/dcc/async-plotlyjs.js HTTP/1.1\" 200 -\n",
      "127.0.0.1 - - [10/Sep/2021 22:25:27] \"GET / HTTP/1.1\" 200 -\n",
      "127.0.0.1 - - [10/Sep/2021 22:25:28] \"GET /_dash-layout HTTP/1.1\" 200 -\n",
      "127.0.0.1 - - [10/Sep/2021 22:25:28] \"GET /_dash-dependencies HTTP/1.1\" 200 -\n",
      "127.0.0.1 - - [10/Sep/2021 22:25:28] \"GET /_dash-component-suites/dash/dcc/async-graph.js HTTP/1.1\" 200 -\n",
      "127.0.0.1 - - [10/Sep/2021 22:25:28] \"GET /_dash-component-suites/dash/dcc/async-plotlyjs.js HTTP/1.1\" 200 -\n"
     ]
    }
   ],
   "source": [
    "if __name__ == '__main__':\n",
    "    app.run_server()"
   ]
  },
  {
   "cell_type": "code",
   "execution_count": null,
   "id": "f3d42b2d-f1e0-43a3-a117-ef1fdb57b781",
   "metadata": {},
   "outputs": [],
   "source": []
  }
 ],
 "metadata": {
  "kernelspec": {
   "display_name": "Python 3",
   "language": "python",
   "name": "python3"
  },
  "language_info": {
   "codemirror_mode": {
    "name": "ipython",
    "version": 3
   },
   "file_extension": ".py",
   "mimetype": "text/x-python",
   "name": "python",
   "nbconvert_exporter": "python",
   "pygments_lexer": "ipython3",
   "version": "3.8.8"
  }
 },
 "nbformat": 4,
 "nbformat_minor": 5
}
