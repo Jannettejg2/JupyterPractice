{
 "cells": [
  {
   "cell_type": "code",
   "execution_count": null,
   "id": "7d9f14ae-b717-4f4f-b347-994cc2b09464",
   "metadata": {},
   "outputs": [],
   "source": [
    "# Ejercicio"
   ]
  },
  {
   "cell_type": "code",
   "execution_count": null,
   "id": "c4a1ba29-5e5b-4d56-9719-e18ec0b0db6d",
   "metadata": {},
   "outputs": [],
   "source": [
    "# 0 1 2 3 4 5 6 7 8 9 10"
   ]
  },
  {
   "cell_type": "code",
   "execution_count": null,
   "id": "4da2f9d6-926a-4277-984e-911e166fe24e",
   "metadata": {},
   "outputs": [],
   "source": [
    "import dash\n",
    "import dash_core_components as dcc\n",
    "import dash_html_components as html\n",
    "from dash import html\n",
    "from dash.dependencies import Input, Output"
   ]
  },
  {
   "cell_type": "code",
   "execution_count": null,
   "id": "060b0bfb-864e-4ffb-82c5-2605b7503135",
   "metadata": {},
   "outputs": [],
   "source": [
    "app = dash.Dash()"
   ]
  },
  {
   "cell_type": "code",
   "execution_count": null,
   "id": "6047cce3-6f51-4d5e-bb07-d4b43333d1ad",
   "metadata": {},
   "outputs": [],
   "source": [
    "app.layout = html.Div([\n",
    "    \n",
    "    dcc.RangeSlider(id='slider', min=0, max=20, marks={i:str(i) for i in range(0,21)}, value=[4,12]),\n",
    "    \n",
    "    html.H1(id='suma'),\n",
    "    \n",
    "])"
   ]
  },
  {
   "cell_type": "code",
   "execution_count": null,
   "id": "d298b48a-7682-4739-bbe9-f80a5f952e94",
   "metadata": {},
   "outputs": [],
   "source": [
    "@app.callback(Output('suma','children'),\n",
    "             [Input('slider','value')])\n",
    "def actualizar(valores):\n",
    "    return valores[0] + valores[1]"
   ]
  },
  {
   "cell_type": "code",
   "execution_count": null,
   "id": "f30ec1cf-ad71-4a7b-90d8-12c22c028ce6",
   "metadata": {},
   "outputs": [],
   "source": [
    "app.run_server()"
   ]
  },
  {
   "cell_type": "code",
   "execution_count": null,
   "id": "c1fd8f76-e219-4dd5-ba35-7b4cfd8df3af",
   "metadata": {},
   "outputs": [],
   "source": []
  }
 ],
 "metadata": {
  "kernelspec": {
   "display_name": "Python 3",
   "language": "python",
   "name": "python3"
  },
  "language_info": {
   "codemirror_mode": {
    "name": "ipython",
    "version": 3
   },
   "file_extension": ".py",
   "mimetype": "text/x-python",
   "name": "python",
   "nbconvert_exporter": "python",
   "pygments_lexer": "ipython3",
   "version": "3.8.8"
  }
 },
 "nbformat": 4,
 "nbformat_minor": 5
}
