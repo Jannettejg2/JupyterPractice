{
 "cells": [
  {
   "cell_type": "code",
   "execution_count": null,
   "id": "00b33db3-c25c-47e4-a636-0e4d847b87b0",
   "metadata": {},
   "outputs": [],
   "source": [
    "# Callback - multiples salidas"
   ]
  },
  {
   "cell_type": "code",
   "execution_count": 1,
   "id": "e9ffe6ae-e6f7-4407-a231-b3f132b0b690",
   "metadata": {},
   "outputs": [
    {
     "name": "stderr",
     "output_type": "stream",
     "text": [
      "C:\\Users\\Janet\\AppData\\Local\\Temp/ipykernel_8416/1828552633.py:2: UserWarning: \n",
      "The dash_core_components package is deprecated. Please replace\n",
      "`import dash_core_components as dcc` with `from dash import dcc`\n",
      "  import dash_core_components as dcc\n",
      "C:\\Users\\Janet\\AppData\\Local\\Temp/ipykernel_8416/1828552633.py:3: UserWarning: \n",
      "The dash_html_components package is deprecated. Please replace\n",
      "`import dash_html_components as html` with `from dash import html`\n",
      "  import dash_html_components as html\n"
     ]
    }
   ],
   "source": [
    "import dash\n",
    "import dash_core_components as dcc\n",
    "import dash_html_components as html\n",
    "from dash import html\n",
    "from dash.dependencies import Input, Output"
   ]
  },
  {
   "cell_type": "code",
   "execution_count": 2,
   "id": "20f4ab01-021a-4143-b440-e2c6882709fe",
   "metadata": {},
   "outputs": [],
   "source": [
    "app = dash.Dash()"
   ]
  },
  {
   "cell_type": "code",
   "execution_count": 3,
   "id": "30beeb56-02cc-4318-8526-b8ba7caa3353",
   "metadata": {},
   "outputs": [],
   "source": [
    "app.layout = html.Div([\n",
    "    dcc.RadioItems(id='numeros', options=[{'label':i, 'value':i} for i in [1,2,3]]),\n",
    "    html.Div(id='salida-numeros'),\n",
    "    \n",
    "    dcc.RadioItems(id='colores', options=[{'label':i, 'value':i} for i in ['verde','rojo','azul']]),\n",
    "    html.Div(id='salida-colores'),\n",
    "    \n",
    "])"
   ]
  },
  {
   "cell_type": "code",
   "execution_count": 4,
   "id": "54436493-4e0f-456a-9626-6a67ca3074e8",
   "metadata": {},
   "outputs": [],
   "source": [
    "@app.callback(Output('salida-numeros', 'children'),\n",
    "             [Input('numeros','value')])\n",
    "def actualizar_numeros(numero):\n",
    "    return \"se ha seleccionado el número {}\".format(numero) "
   ]
  },
  {
   "cell_type": "code",
   "execution_count": 5,
   "id": "3392046c-f1ae-4ac3-aefa-a79a47b0ff41",
   "metadata": {},
   "outputs": [],
   "source": [
    "@app.callback(Output('salida-colores', 'children'),\n",
    "             [Input('colores','value')])\n",
    "def actualizar_colores(color):\n",
    "    return \"se ha seleccionado el color {}\".format(color)"
   ]
  },
  {
   "cell_type": "code",
   "execution_count": null,
   "id": "2b048d43-371d-43c6-816f-d8d2fb1cde0e",
   "metadata": {},
   "outputs": [
    {
     "name": "stdout",
     "output_type": "stream",
     "text": [
      "Dash is running on http://127.0.0.1:8050/\n",
      "\n",
      " * Serving Flask app '__main__' (lazy loading)\n",
      " * Environment: production\n",
      "\u001b[31m   WARNING: This is a development server. Do not use it in a production deployment.\u001b[0m\n",
      "\u001b[2m   Use a production WSGI server instead.\u001b[0m\n",
      " * Debug mode: off\n"
     ]
    },
    {
     "name": "stderr",
     "output_type": "stream",
     "text": [
      " * Running on http://127.0.0.1:8050/ (Press CTRL+C to quit)\n",
      "127.0.0.1 - - [08/Oct/2021 21:17:11] \"GET / HTTP/1.1\" 200 -\n",
      "127.0.0.1 - - [08/Oct/2021 21:17:11] \"GET /_dash-component-suites/dash/deps/react-dom@16.v2_0_0m1631324045.14.0.min.js HTTP/1.1\" 200 -\n",
      "127.0.0.1 - - [08/Oct/2021 21:17:11] \"GET /_dash-component-suites/dash/deps/react@16.v2_0_0m1631324045.14.0.min.js HTTP/1.1\" 200 -\n",
      "127.0.0.1 - - [08/Oct/2021 21:17:11] \"GET /_dash-component-suites/dash/deps/polyfill@7.v2_0_0m1631324045.12.1.min.js HTTP/1.1\" 200 -\n",
      "127.0.0.1 - - [08/Oct/2021 21:17:12] \"GET /_dash-component-suites/dash/dash-renderer/build/dash_renderer.v2_0_0m1631324044.min.js HTTP/1.1\" 200 -\n",
      "127.0.0.1 - - [08/Oct/2021 21:17:12] \"GET /_dash-component-suites/dash/deps/prop-types@15.v2_0_0m1631324045.7.2.min.js HTTP/1.1\" 200 -\n",
      "127.0.0.1 - - [08/Oct/2021 21:17:12] \"GET /_dash-component-suites/dash/dcc/dash_core_components.v2_0_0m1631324045.js HTTP/1.1\" 200 -\n",
      "127.0.0.1 - - [08/Oct/2021 21:17:12] \"GET /_dash-component-suites/dash/html/dash_html_components.v2_0_0m1631324045.min.js HTTP/1.1\" 200 -\n",
      "127.0.0.1 - - [08/Oct/2021 21:17:12] \"GET /_dash-component-suites/dash/dcc/dash_core_components-shared.v2_0_0m1631324045.js HTTP/1.1\" 200 -\n",
      "127.0.0.1 - - [08/Oct/2021 21:17:12] \"GET /_dash-component-suites/dash/dash_table/bundle.v5_0_0m1631324044.js HTTP/1.1\" 200 -\n",
      "127.0.0.1 - - [08/Oct/2021 21:17:13] \"GET /_dash-layout HTTP/1.1\" 200 -\n",
      "127.0.0.1 - - [08/Oct/2021 21:17:13] \"GET /_dash-dependencies HTTP/1.1\" 200 -\n",
      "127.0.0.1 - - [08/Oct/2021 21:17:13] \"GET /_favicon.ico?v=2.0.0 HTTP/1.1\" 200 -\n",
      "127.0.0.1 - - [08/Oct/2021 21:17:13] \"POST /_dash-update-component HTTP/1.1\" 200 -\n",
      "127.0.0.1 - - [08/Oct/2021 21:17:13] \"POST /_dash-update-component HTTP/1.1\" 200 -\n",
      "127.0.0.1 - - [08/Oct/2021 21:17:17] \"POST /_dash-update-component HTTP/1.1\" 200 -\n",
      "127.0.0.1 - - [08/Oct/2021 21:17:19] \"POST /_dash-update-component HTTP/1.1\" 200 -\n",
      "127.0.0.1 - - [08/Oct/2021 21:31:28] \"GET /_dash-layout HTTP/1.1\" 200 -\n",
      "127.0.0.1 - - [08/Oct/2021 21:31:28] \"GET /_dash-dependencies HTTP/1.1\" 200 -\n",
      "127.0.0.1 - - [08/Oct/2021 21:31:28] \"POST /_dash-update-component HTTP/1.1\" 200 -\n",
      "127.0.0.1 - - [08/Oct/2021 21:31:28] \"POST /_dash-update-component HTTP/1.1\" 200 -\n"
     ]
    }
   ],
   "source": [
    "app.run_server()"
   ]
  },
  {
   "cell_type": "code",
   "execution_count": null,
   "id": "48807218-f246-48f5-8818-b3578b989198",
   "metadata": {},
   "outputs": [],
   "source": []
  }
 ],
 "metadata": {
  "kernelspec": {
   "display_name": "Python 3 (ipykernel)",
   "language": "python",
   "name": "python3"
  },
  "language_info": {
   "codemirror_mode": {
    "name": "ipython",
    "version": 3
   },
   "file_extension": ".py",
   "mimetype": "text/x-python",
   "name": "python",
   "nbconvert_exporter": "python",
   "pygments_lexer": "ipython3",
   "version": "3.9.1"
  }
 },
 "nbformat": 4,
 "nbformat_minor": 5
}
