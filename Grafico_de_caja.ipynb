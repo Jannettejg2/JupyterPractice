{
 "cells": [
  {
   "cell_type": "code",
   "execution_count": 1,
   "id": "81aba1d6-a718-487d-b6bc-0f899a663563",
   "metadata": {},
   "outputs": [],
   "source": [
    "# Grafico de caja"
   ]
  },
  {
   "cell_type": "code",
   "execution_count": 2,
   "id": "7f226fb4-afd7-4ad1-adf9-8ce46aff963f",
   "metadata": {},
   "outputs": [],
   "source": [
    "import plotly.offline as pyo\n",
    "import plotly.graph_objs as go"
   ]
  },
  {
   "cell_type": "code",
   "execution_count": 3,
   "id": "e3115f0a-ef3a-4972-8820-e4ab287193b5",
   "metadata": {},
   "outputs": [],
   "source": [
    "valores = [22, 23, 28, 30, 32, 35, 38, 40, 42, 45]"
   ]
  },
  {
   "cell_type": "code",
   "execution_count": 4,
   "id": "264dfdbe-bf95-4a34-a160-94637448176a",
   "metadata": {},
   "outputs": [],
   "source": [
    "datos = [go.Box(y=valores)]"
   ]
  },
  {
   "cell_type": "code",
   "execution_count": 5,
   "id": "548b2ec8-35d6-4bb0-ab60-14db103c18a5",
   "metadata": {},
   "outputs": [
    {
     "data": {
      "text/plain": [
       "'temp-plot.html'"
      ]
     },
     "execution_count": 5,
     "metadata": {},
     "output_type": "execute_result"
    }
   ],
   "source": [
    "pyo.plot(datos)"
   ]
  },
  {
   "cell_type": "code",
   "execution_count": 6,
   "id": "d9ff96cd-8993-453f-8d3d-f127161786a7",
   "metadata": {},
   "outputs": [],
   "source": [
    "datos = [go.Box(y=valores,boxpoints='all')]"
   ]
  },
  {
   "cell_type": "code",
   "execution_count": 7,
   "id": "a468adae-3fea-43f3-bd3a-fbe5720e1441",
   "metadata": {},
   "outputs": [
    {
     "data": {
      "text/plain": [
       "'temp-plot.html'"
      ]
     },
     "execution_count": 7,
     "metadata": {},
     "output_type": "execute_result"
    }
   ],
   "source": [
    "pyo.plot(datos)"
   ]
  },
  {
   "cell_type": "code",
   "execution_count": 31,
   "id": "1f0c82f8-66e3-497e-b590-4b79c55b11df",
   "metadata": {},
   "outputs": [],
   "source": [
    "valores2 = [18, 20, 21, 22, 22, 22, 22, 23, 22, 23, 24, 25, 26, 27, 28, 29, 30, 35, 40, 41, 43, 44, 50]"
   ]
  },
  {
   "cell_type": "code",
   "execution_count": 32,
   "id": "c56a9675-f80d-4fd7-a425-bab67bfbde26",
   "metadata": {},
   "outputs": [],
   "source": [
    "datos = [go.Box(y=valores, boxpoints='all'),\n",
    "        go.Box(y=valores2, boxpoints='all')]"
   ]
  },
  {
   "cell_type": "code",
   "execution_count": 33,
   "id": "91a32b7e-a05b-4d30-81fc-30cda6d928ce",
   "metadata": {},
   "outputs": [
    {
     "data": {
      "text/plain": [
       "'temp-plot.html'"
      ]
     },
     "execution_count": 33,
     "metadata": {},
     "output_type": "execute_result"
    }
   ],
   "source": [
    "pyo.plot(datos)"
   ]
  },
  {
   "cell_type": "code",
   "execution_count": null,
   "id": "9db56665-abc9-4d78-9479-68f805bc7891",
   "metadata": {},
   "outputs": [],
   "source": []
  }
 ],
 "metadata": {
  "kernelspec": {
   "display_name": "Python 3 (ipykernel)",
   "language": "python",
   "name": "python3"
  },
  "language_info": {
   "codemirror_mode": {
    "name": "ipython",
    "version": 3
   },
   "file_extension": ".py",
   "mimetype": "text/x-python",
   "name": "python",
   "nbconvert_exporter": "python",
   "pygments_lexer": "ipython3",
   "version": "3.9.1"
  }
 },
 "nbformat": 4,
 "nbformat_minor": 5
}
